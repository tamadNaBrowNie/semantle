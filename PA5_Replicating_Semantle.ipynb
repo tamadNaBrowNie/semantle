{
 "cells": [
  {
   "cell_type": "markdown",
   "metadata": {
    "id": "3i3m9JjeM5U5"
   },
   "source": [
    "# **Programming Assessment \\#5**\n",
    "\n",
    "Names: ABERIN, Shawn  LIM, Kyle  SINGSON, Raymond\n",
    "\n",
    "More information on the assessment is found in our Canvas course."
   ]
  },
  {
   "cell_type": "markdown",
   "metadata": {
    "id": "HxtmCAZwNoeU"
   },
   "source": [
    "# **Load Pre-trained Embeddings**\n",
    "\n",
    "*While you don't have to separate your code into blocks, it might be easier if you separated loading / downloading your data from the main part of your solution. Consider placing all loading of data into the code block below.*"
   ]
  },
  {
   "cell_type": "code",
   "execution_count": 5,
   "metadata": {},
   "outputs": [],
   "source": [
    "import numpy as np\n",
    "import fasttext.util\n",
    "import fasttext\n",
    "import urllib.request\n",
    "import zipfile\n",
    "import os\n",
    "# import shutil\n",
    "# if os.path.exists(\"./contents\"):\n",
    "#     shutil.rmtree(\"./contents\")\n",
    "    \n",
    "if not os.path.exists(\"./fastText\"):\n",
    "        ! git clone https://github.com/facebookresearch/fastText.git\n",
    "! cd fastText\n",
    "! runas python setup.py install"
   ]
  },
  {
   "cell_type": "code",
   "execution_count": 6,
   "metadata": {
    "id": "CbvxU2oTM4IV"
   },
   "outputs": [],
   "source": [
    "class Loaders:\n",
    "    def __init__(self):\n",
    "        self.srcs = {\n",
    "            \"glove6b\": \"https://nlp.stanford.edu/data/glove.6B.zip\",\n",
    "            \"fasttext\": \"https://dl.fbaipublicfiles.com/fasttext/vectors-english/wiki-news-300d-1M.vec.zip\"\n",
    "        }\n",
    "       \n",
    "        \n",
    "\n",
    "    def load(self, type,file,):\n",
    "        try:\n",
    "            print(\"loading stuff\")\n",
    "            data = {}\n",
    "            with open(file, \"r\", encoding=\"utf8\") as f:\n",
    "                lines = (line.casefold().split() for line in f.readlines())\n",
    "            dat = ((line[0], np.array(line[1:], dtype=np.float32)) for line in lines if line[0].isalnum())\n",
    "            data.update(dat)\n",
    "            wordslist = list(data.keys())\n",
    "            vectors = data\n",
    "            return wordslist, vectors\n",
    "        except Exception as e:\n",
    "            print(f\"load error. {e} happned\")\n",
    "        \n",
    "    def download(self,type):\n",
    "        try:\n",
    "            \n",
    "            url = self.srcs[type]\n",
    "            zip_file_name = f\"{type}.zip\"\n",
    "            print(\"downloading model\")\n",
    "            urllib.request.urlretrieve(url, zip_file_name)\n",
    "            \n",
    "            with zipfile.ZipFile(zip_file_name, 'r') as zip_ref:\n",
    "                print(\"unzipping\")\n",
    "                zip_ref.extractall(\"./content\")\n",
    "            os.remove(zip_file_name)\n",
    "            print(\"downloaded and extracted successfully.\")\n",
    "        except Exception as e:\n",
    "            print(f\"Error downloading model. {e} happened \")"
   ]
  },
  {
   "cell_type": "markdown",
   "metadata": {
    "id": "r8YCZLi-N0uR"
   },
   "source": [
    "# **Your Implementation**\n",
    "\n",
    "*Again, you don't have to have everything in one block. Use the notebook according to your preferences with the goal of fulfilling the assessment in mind.*"
   ]
  },
  {
   "cell_type": "code",
   "execution_count": 7,
   "metadata": {
    "colab": {
     "base_uri": "https://localhost:8080/"
    },
    "id": "VqKjpUrkOSnC",
    "outputId": "0917533b-6ed6-4cf1-c84c-4cbe8644ee23"
   },
   "outputs": [],
   "source": [
    "import random\n",
    "def_files = {\n",
    "    \"glove6b\":\"glove.6B.50d.txt\",\n",
    "    \"fasttext\":\"wiki-news-300d-1M.vec\"\n",
    "}\n",
    "class Semantle:\n",
    "    def __init__(self, downloaded, vector_type=\"glove6b\", fileloc=\"glove.6B.50d.txt\",dbg=False):\n",
    "        self.SEN = -2\n",
    "        self.prev = self.SEN\n",
    "        self.loader = Loaders()\n",
    "        self.dbg = dbg\n",
    "        if not downloaded:\n",
    "            self.loader.download(vector_type)\n",
    "        self.word_bank, self.vec = self.loader.load(vector_type, fileloc)\n",
    "        if self.word_bank is None:\n",
    "            print(\"Error reading vector file. Exiting.\")\n",
    "            return\n",
    "        self.maketarget()\n",
    "        \n",
    "    def normalize(self, vec):\n",
    "        den = np.linalg.norm(vec)\n",
    "        return vec / den if den != 0 else vec\n",
    "\n",
    "    def maketarget(self):\n",
    "        self.w = choose_word(self.word_bank)\n",
    "        vec = self.vec[self.w]\n",
    "        self.vec_w = self.normalize(vec)\n",
    "        if self.dbg:\n",
    "            print(f\"Randomly selected word: {self.w}\")\n",
    "\n",
    "    def init_temp(self, s):\n",
    "        if 0.33 <= s <= 1:\n",
    "            return \"synonym\"\n",
    "        elif -1 <= s <= -0.33:\n",
    "            return \"antonym\"\n",
    "        return \"unrelated\"\n",
    "\n",
    "    def check(self, guess):\n",
    "        if guess == self.w:\n",
    "            print(f\"{self.w} is correct\")\n",
    "            return True\n",
    "\n",
    "        \n",
    "        try:\n",
    "            vec_guess = self.normalize(self.vec[guess])\n",
    "            sim = np.dot(vec_guess, self.vec_w)\n",
    "            if sim > self.prev:\n",
    "                self.prev = sim\n",
    "            \n",
    "            the_temp = lambda s: \"colder\" if s < self.prev else \"warmer\"\n",
    "            \n",
    "            temp = the_temp(sim) if self.prev == self.SEN else self.init_temp(sim)\n",
    "            \n",
    "            print(f\"{guess} is {temp}, cosine similarity is: {sim}\")\n",
    "        except KeyError:\n",
    "            print(\"Word not recognized, please try again\")\n",
    "\n",
    "        return False\n",
    "\n",
    "def choose_word(word_bank):\n",
    "    return random.choice(word_bank)\n"
   ]
  },
  {
   "cell_type": "code",
   "execution_count": 8,
   "metadata": {
    "colab": {
     "base_uri": "https://localhost:8080/"
    },
    "id": "QL708Fl9GA9J",
    "outputId": "a56c1e74-968d-4ea5-d687-f46fd16c40b3",
    "scrolled": true
   },
   "outputs": [
    {
     "name": "stdin",
     "output_type": "stream",
     "text": [
      "Enter vector type (glove6b or fasttext):  fasttext\n"
     ]
    },
    {
     "name": "stdout",
     "output_type": "stream",
     "text": [
      "loading stuff\n",
      "Step: 0\n"
     ]
    },
    {
     "name": "stdin",
     "output_type": "stream",
     "text": [
      "Enter your guess:  fat\n"
     ]
    },
    {
     "name": "stdout",
     "output_type": "stream",
     "text": [
      "fat is unrelated, cosine similarity is: 0.14967085421085358\n",
      "Step: 1\n"
     ]
    },
    {
     "name": "stdin",
     "output_type": "stream",
     "text": [
      "Enter your guess:  ya mate kudyastop\n"
     ]
    },
    {
     "name": "stdout",
     "output_type": "stream",
     "text": [
      "Thank you\n"
     ]
    }
   ],
   "source": [
    "    def main():\n",
    "    \n",
    "        vector_type = input(\"Enter vector type (glove6b or fasttext): \").lower().strip()\n",
    "        fileloc = \"./content/\"+def_files[vector_type]\n",
    "    \n",
    "        if os.path.exists(fileloc):\n",
    "            downloaded = True\n",
    "        else:\n",
    "            downloaded = False\n",
    "             \n",
    "        game = Semantle(downloaded, vector_type,fileloc)\n",
    "        \n",
    "        if game.word_bank is None:\n",
    "            return  # Exit if word vectors are not loaded successfully\n",
    "        \n",
    "        correct = False\n",
    "        step = 0\n",
    "        \n",
    "        while not correct:\n",
    "            print(f\"Step: {step}\")\n",
    "            guess = input(\"Enter your guess: \").lower().strip()\n",
    "        \n",
    "            if guess == \"ya mate kudyastop\":\n",
    "                break\n",
    "        \n",
    "            correct = game.check(guess)\n",
    "            step += 1\n",
    "        \n",
    "        print(\"Thank you\")\n",
    "    \n",
    "    if __name__ == \"__main__\":main()\n",
    "    \n"
   ]
  }
 ],
 "metadata": {
  "colab": {
   "provenance": []
  },
  "kernelspec": {
   "display_name": "Python 3 (ipykernel)",
   "language": "python",
   "name": "python3"
  },
  "language_info": {
   "codemirror_mode": {
    "name": "ipython",
    "version": 3
   },
   "file_extension": ".py",
   "mimetype": "text/x-python",
   "name": "python",
   "nbconvert_exporter": "python",
   "pygments_lexer": "ipython3",
   "version": "3.11.5"
  },
  "vscode": {
   "interpreter": {
    "hash": "8f4b3deeac0a5ce6c43bde11bfee6a0d7b0549337061a7646d07811ade3818cd"
   }
  }
 },
 "nbformat": 4,
 "nbformat_minor": 4
}
