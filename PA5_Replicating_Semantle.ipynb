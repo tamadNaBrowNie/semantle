{
  "cells": [
    {
      "cell_type": "markdown",
      "metadata": {
        "id": "3i3m9JjeM5U5"
      },
      "source": [
        "# **Programming Assessment \\#5**\n",
        "\n",
        "Names: ABERIN, Shawn  LIM, Kyle  SINGSON, Raymond\n",
        "\n",
        "More information on the assessment is found in our Canvas course."
      ]
    },
    {
      "cell_type": "markdown",
      "metadata": {
        "id": "HxtmCAZwNoeU"
      },
      "source": [
        "# **Load Pre-trained Embeddings**\n",
        "\n",
        "*While you don't have to separate your code into blocks, it might be easier if you separated loading / downloading your data from the main part of your solution. Consider placing all loading of data into the code block below.*"
      ]
    },
    {
      "cell_type": "code",
      "source": [
        "!pip install fasttext"
      ],
      "metadata": {
        "colab": {
          "base_uri": "https://localhost:8080/"
        },
        "id": "uF2I_QjKGEfa",
        "outputId": "a2a10672-10a7-4337-b448-05c9a62a8515"
      },
      "execution_count": 46,
      "outputs": [
        {
          "output_type": "stream",
          "name": "stdout",
          "text": [
            "Collecting fasttext\n",
            "  Downloading fasttext-0.9.2.tar.gz (68 kB)\n",
            "\u001b[?25l     \u001b[90m━━━━━━━━━━━━━━━━━━━━━━━━━━━━━━━━━━━━━━━━\u001b[0m \u001b[32m0.0/68.8 kB\u001b[0m \u001b[31m?\u001b[0m eta \u001b[36m-:--:--\u001b[0m\r\u001b[2K     \u001b[91m━━━━━━━━━━━━━━━━━━━━━━━━━━━━━━━━━━━\u001b[0m\u001b[91m╸\u001b[0m\u001b[90m━━━━\u001b[0m \u001b[32m61.4/68.8 kB\u001b[0m \u001b[31m2.1 MB/s\u001b[0m eta \u001b[36m0:00:01\u001b[0m\r\u001b[2K     \u001b[90m━━━━━━━━━━━━━━━━━━━━━━━━━━━━━━━━━━━━━━━━\u001b[0m \u001b[32m68.8/68.8 kB\u001b[0m \u001b[31m1.6 MB/s\u001b[0m eta \u001b[36m0:00:00\u001b[0m\n",
            "\u001b[?25h  Preparing metadata (setup.py) ... \u001b[?25l\u001b[?25hdone\n",
            "Collecting pybind11>=2.2 (from fasttext)\n",
            "  Using cached pybind11-2.11.1-py3-none-any.whl (227 kB)\n",
            "Requirement already satisfied: setuptools>=0.7.0 in /usr/local/lib/python3.10/dist-packages (from fasttext) (67.7.2)\n",
            "Requirement already satisfied: numpy in /usr/local/lib/python3.10/dist-packages (from fasttext) (1.23.5)\n",
            "Building wheels for collected packages: fasttext\n",
            "  Building wheel for fasttext (setup.py) ... \u001b[?25l\u001b[?25hdone\n",
            "  Created wheel for fasttext: filename=fasttext-0.9.2-cp310-cp310-linux_x86_64.whl size=4199773 sha256=5f3fd826c87b47b1a31b9a15998cf456d2922d24f8bffcb268ef1de2cc4342f1\n",
            "  Stored in directory: /root/.cache/pip/wheels/a5/13/75/f811c84a8ab36eedbaef977a6a58a98990e8e0f1967f98f394\n",
            "Successfully built fasttext\n",
            "Installing collected packages: pybind11, fasttext\n",
            "Successfully installed fasttext-0.9.2 pybind11-2.11.1\n"
          ]
        }
      ]
    },
    {
      "cell_type": "code",
      "execution_count": 53,
      "metadata": {
        "id": "CbvxU2oTM4IV"
      },
      "outputs": [],
      "source": [
        "import numpy as np\n",
        "import fasttext.util\n",
        "import fasttext\n",
        "import urllib.request\n",
        "import zipfile\n",
        "import os\n",
        "\n",
        "class Loaders:\n",
        "    def __init__(self, downloaded):\n",
        "        self.loaders = {\n",
        "            \"glove6B\": self.load_word_vectors_glove6B,\n",
        "            \"fasttext\": self.load_word_vectors_fasttext\n",
        "        }\n",
        "        self.srcs = {\n",
        "            \"glove6B\": \"https://nlp.stanford.edu/data/glove.6B.zip\",\n",
        "            \"fasttext\": None\n",
        "        }\n",
        "        if not downloaded:\n",
        "            self.download(\"glove6B\")\n",
        "            self.download(\"fasttext\")\n",
        "\n",
        "    def load_word_vectors_glove6B(self, glove_file=\"glove.6B.50d.txt\"):\n",
        "        data = {}\n",
        "        try:\n",
        "            with open(glove_file, \"r\", encoding=\"utf8\") as f:\n",
        "                lines = (line.casefold().split() for line in f.readlines())\n",
        "            dat = ((line[0], np.array(line[1:], dtype=np.float32)) for line in lines if line[0].isalnum())\n",
        "            data.update(dat)\n",
        "            wordslist = list(data.keys())\n",
        "            vectors = data\n",
        "            return wordslist, vectors\n",
        "        except Exception as e:\n",
        "            print(f\"Error loading GloVe model: {e}\")\n",
        "            return None, None\n",
        "\n",
        "    def load_word_vectors_fasttext(self, fasttext_file=\"cc.en.300.bin\"):\n",
        "        try:\n",
        "            ft = fasttext.load_model(fasttext_file)\n",
        "            wordslist = ft.get_words()\n",
        "            vectors = {word: ft.get_word_vector(word) for word in wordslist}\n",
        "            return wordslist, vectors\n",
        "        except Exception as e:\n",
        "            print(f\"Error loading FastText model: {e}\")\n",
        "            return None, None\n",
        "\n",
        "    def load(self, type=\"glove6B\", fileloc=\"glove.6B.50d\"):\n",
        "        try:\n",
        "            return self.loaders[type](fileloc)\n",
        "        except Exception as e:\n",
        "            print(f\"Error loading {type} model: {e}\")\n",
        "            return None, None\n",
        "\n",
        "    def download(self, type):\n",
        "        url = self.srcs.get(type)\n",
        "        if url:\n",
        "            zip_file_name = f\"{type}.zip\"\n",
        "            urllib.request.urlretrieve(url, zip_file_name)\n",
        "            with zipfile.ZipFile(zip_file_name, 'r') as zip_ref:\n",
        "                zip_ref.extractall(\".\")\n",
        "            os.remove(zip_file_name)\n",
        "            print(f\"{type} downloaded and extracted successfully.\")\n",
        "        else:\n",
        "            print(f\"Download URL for {type} not found.\")\n"
      ]
    },
    {
      "cell_type": "markdown",
      "metadata": {
        "id": "r8YCZLi-N0uR"
      },
      "source": [
        "# **Your Implementation**\n",
        "\n",
        "*Again, you don't have to have everything in one block. Use the notebook according to your preferences with the goal of fulfilling the assessment in mind.*"
      ]
    },
    {
      "cell_type": "code",
      "execution_count": 56,
      "metadata": {
        "id": "VqKjpUrkOSnC",
        "colab": {
          "base_uri": "https://localhost:8080/"
        },
        "outputId": "0917533b-6ed6-4cf1-c84c-4cbe8644ee23"
      },
      "outputs": [
        {
          "output_type": "stream",
          "name": "stdout",
          "text": [
            "Enter vector type (glove6B or fasttext): glove6B\n",
            "Trace\n",
            "Error loading glove6b model: 'glove6b'\n",
            "Error reading vector file. Exiting.\n",
            "Hello World\n"
          ]
        }
      ],
      "source": [
        "import numpy as np\n",
        "import random\n",
        "\n",
        "class Semantle:\n",
        "    def __init__(self, downloaded, vector_type=\"glove6B\", fileloc=\"glove.6B.50d.txt\"):\n",
        "        self.SEN = -2\n",
        "        self.prev = self.SEN\n",
        "        self.loader = Loaders(downloaded=downloaded)\n",
        "        self.word_bank, self.vec = self.loader.load(vector_type, fileloc)\n",
        "        if self.word_bank is None:\n",
        "            print(\"Error reading vector file. Exiting.\")\n",
        "            return\n",
        "        self.maketarget()\n",
        "\n",
        "    def normalize(self, vec):\n",
        "        den = np.linalg.norm(vec)\n",
        "        return vec / den if den != 0 else vec\n",
        "\n",
        "    def maketarget(self):\n",
        "        self.w = choose_word(self.word_bank)\n",
        "        vec = self.vec[self.w]\n",
        "        self.vec_w = self.normalize(vec)\n",
        "        print(f\"Randomly selected word: {self.w}\")\n",
        "\n",
        "    def init_temp(self, s):\n",
        "        if 0.33 <= s <= 1:\n",
        "            return \"synonym\"\n",
        "        elif -1 <= s <= -0.33:\n",
        "            return \"antonym\"\n",
        "        return \"unrelated\"\n",
        "\n",
        "    def check(self, guess):\n",
        "        if guess == self.w:\n",
        "            print(f\"{self.w} is correct\")\n",
        "            return True\n",
        "\n",
        "        the_temp = lambda s: \"colder\" if s < self.prev else \"warmer\"\n",
        "        try:\n",
        "            vec_guess = self.normalize(self.vec[guess])\n",
        "            sim = np.dot(vec_guess, self.vec_w)\n",
        "            temp = the_temp(sim) if self.prev != self.SEN else self.init_temp(sim)\n",
        "            if sim > self.prev:\n",
        "                self.prev = sim\n",
        "            print(f\"{guess} is {temp}, cosine similarity is: {sim}\")\n",
        "        except KeyError:\n",
        "            print(\"Word not recognized, please try again\")\n",
        "\n",
        "        return False\n",
        "\n",
        "def choose_word(word_bank):\n",
        "    return random.choice(word_bank)\n"
      ]
    },
    {
      "cell_type": "code",
      "execution_count": 58,
      "metadata": {
        "colab": {
          "base_uri": "https://localhost:8080/"
        },
        "id": "QL708Fl9GA9J",
        "outputId": "a56c1e74-968d-4ea5-d687-f46fd16c40b3"
      },
      "outputs": [
        {
          "output_type": "stream",
          "name": "stdout",
          "text": [
            "Enter vector type (glove6B or fasttext): fasttext\n",
            "Randomly selected word: nanto\n",
            "Step: 0\n",
            "Enter your guess: tanto\n",
            "tanto is unrelated, cosine similarity is: 0.24338853359222412\n",
            "Step: 1\n",
            "Enter your guess: naton\n",
            "Word not recognized, please try again\n",
            "Step: 2\n",
            "Enter your guess: tanon\n",
            "tanon is colder, cosine similarity is: 0.05850019305944443\n",
            "Step: 3\n",
            "Enter your guess: nano\n",
            "nano is colder, cosine similarity is: 0.03551755100488663\n",
            "Step: 4\n",
            "Enter your guess: tonan\n",
            "Word not recognized, please try again\n",
            "Step: 5\n",
            "Enter your guess: ya mate kudyastop\n",
            "Thank you\n"
          ]
        }
      ],
      "source": [
        "import os\n",
        "\n",
        "def main():\n",
        "    vector_type = input(\"Enter vector type (glove6B or fasttext): \").lower().strip()\n",
        "\n",
        "    if vector_type == \"glove6b\":\n",
        "        fileloc = \"/content/glove.6B.50d.txt\"\n",
        "        if os.path.exists(fileloc):\n",
        "            downloaded = True\n",
        "        else:\n",
        "            downloaded = False\n",
        "    else:\n",
        "        downloaded = True\n",
        "\n",
        "    game = Semantle(downloaded, vector_type=\"glove6B\")\n",
        "\n",
        "    if game.word_bank is None:\n",
        "        return  # Exit if word vectors are not loaded successfully\n",
        "\n",
        "    correct = False\n",
        "    step = 0\n",
        "\n",
        "    while not correct:\n",
        "        print(f\"Step: {step}\")\n",
        "        guess = input(\"Enter your guess: \").lower().strip()\n",
        "\n",
        "        if guess == \"ya mate kudyastop\":\n",
        "            break\n",
        "\n",
        "        correct = game.check(guess)\n",
        "        step += 1\n",
        "\n",
        "    print(\"Thank you\")\n",
        "\n",
        "if __name__ == \"__main__\":\n",
        "    main()"
      ]
    }
  ],
  "metadata": {
    "colab": {
      "provenance": []
    },
    "kernelspec": {
      "display_name": "Python 3 (ipykernel)",
      "language": "python",
      "name": "python3"
    },
    "language_info": {
      "codemirror_mode": {
        "name": "ipython",
        "version": 3
      },
      "file_extension": ".py",
      "mimetype": "text/x-python",
      "name": "python",
      "nbconvert_exporter": "python",
      "pygments_lexer": "ipython3",
      "version": "3.9.4"
    },
    "vscode": {
      "interpreter": {
        "hash": "8f4b3deeac0a5ce6c43bde11bfee6a0d7b0549337061a7646d07811ade3818cd"
      }
    }
  },
  "nbformat": 4,
  "nbformat_minor": 0
}