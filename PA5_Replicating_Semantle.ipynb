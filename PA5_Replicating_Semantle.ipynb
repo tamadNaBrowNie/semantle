{
 "cells": [
  {
   "attachments": {},
   "cell_type": "markdown",
   "metadata": {
    "id": "3i3m9JjeM5U5"
   },
   "source": [
    "# **Programming Assessment \\#5**\n",
    "\n",
    "Names: ABERIN, Shawn  LIM, Kyle  SINGSON, Raymond\n",
    "\n",
    "More information on the assessment is found in our Canvas course."
   ]
  },
  {
   "cell_type": "markdown",
   "metadata": {
    "id": "HxtmCAZwNoeU"
   },
   "source": [
    "# **Load Pre-trained Embeddings**\n",
    "\n",
    "*While you don't have to separate your code into blocks, it might be easier if you separated loading / downloading your data from the main part of your solution. Consider placing all loading of data into the code block below.*"
   ]
  },
  {
   "cell_type": "code",
   "execution_count": 84,
   "metadata": {
    "id": "CbvxU2oTM4IV"
   },
   "outputs": [],
   "source": [
    "import numpy as np\n",
    "import random\n",
    "class Loaders:\n",
    "\n",
    "    def __init__(self,downloaded = True):\n",
    "        self.loaders = {\n",
    "        \"glove6B\":self.load_word_vectors_glove6B\n",
    "            # TODO add fasttext loading\n",
    "        }\n",
    "        self.srcs = {\n",
    "             \"glove6B\":\"glove6B url here\"\n",
    "        }\n",
    "        if not downloaded:\n",
    "            # if not downloaded, depending on type, download the zip then unzip.\n",
    "                pass\n",
    "            # TODO out this in a dict with less nesting\n",
    "    def load_word_vectors_glove6B(self,glove_file= \"glove.6B.50d.txt\"):\n",
    "        data = {}\n",
    "        lines = None\n",
    "        # try:\n",
    "        with open(glove_file, \"r\", encoding=\"utf8\") as f:\n",
    "            lines = (line.casefold().split() for line in f.readlines())\n",
    "        dat = ((line[0],np.array(line[1:], dtype=np.float32))  for line in lines if line[0].isalnum())\n",
    "        data.update(dat)\n",
    "        wordslist = list(data.keys())\n",
    "        vectors = data\n",
    "        return wordslist, vectors\n",
    "        # except:\n",
    "        #     print(\"Vector file read error\")\n",
    "        # return None, None\n",
    "\n",
    "    def load(self,type=\"glove6B\",fileloc=\"glove.6B.50d\"):\n",
    "        try:\n",
    "            return self.loaders[type](fileloc)\n",
    "        except:\n",
    "            print(\"Vector file load error\")\n",
    "        return None, None\n",
    "    def download(self,url):\n",
    "        pass        \n"
   ]
  },
  {
   "cell_type": "markdown",
   "metadata": {
    "id": "r8YCZLi-N0uR"
   },
   "source": [
    "# **Your Implementation**\n",
    "\n",
    "*Again, you don't have to have everything in one block. Use the notebook according to your preferences with the goal of fulfilling the assessment in mind.*"
   ]
  },
  {
   "cell_type": "code",
   "execution_count": 132,
   "metadata": {
    "id": "VqKjpUrkOSnC"
   },
   "outputs": [],
   "source": [
    "# from semantle.data import load_word_vectors\n",
    "    #i really fucking want to get out of college\n",
    "    #     #i fucking wanna play genshin\n",
    "    #     #there is someone cosplaying katheryne in DLSU Lag lib\n",
    "    #     #there was a cosplay event there and i am here suffering this\n",
    "    #     #wait i have to do code analysis first\n",
    "# why did i edit my comments from last week?\n",
    "\n",
    "import random\n",
    "import numpy as np\n",
    "import zipfile as zif\n",
    "from numpy.linalg import norm\n",
    "def choose_word():\n",
    "    word_bank, _ = load_word_vectors_glove6B()\n",
    "    return random.choice(word_bank)\n",
    "class semantle:\n",
    "    \n",
    "    # vec_class is the type of pre-trained vector to be used. \n",
    "    def __init__(self,downloaded = True,type = \"glove6B\",fileloc=\"glove.6B.50d.txt\",url = None):\n",
    "        self.SEN=-2\n",
    "        self.prev = self.SEN\n",
    "        self.loader = Loaders()\n",
    "        if not downloaded:\n",
    "            type,fileloc = self.loader.download(url)\n",
    "        self.word_bank,self.vec = self.loader.load(type,fileloc)\n",
    "        self.maketarget()\n",
    "    def normalize(self,vec):\n",
    "        den = norm(vec)\n",
    "        return vec/ den  if den != 0 else vec\n",
    "    def maketarget(self):\n",
    "        self.w = random.choice(self.word_bank)\n",
    "        vec = self.vec[self.w]\n",
    "        self.vec_w = self.normalize(vec)\n",
    "        print(self.w)\n",
    "    def init_temp(self,s):\n",
    "        if 0.33<=s<=1:return \"synonym\"\n",
    "        elif -1<=s<=-0.33:return \"antonym\"\n",
    "        return \"unrelated\"\n",
    "    def check(self,guess):\n",
    "        \n",
    "        if guess == self.w:\n",
    "                print(f\"{self.w} is correct\")\n",
    "                return True\n",
    "        # try:\n",
    "        the_temp = lambda s: \"colder\" if s < self.prev else \"warmer\"\n",
    "        try:\n",
    "            vec_guess = self.normalize(self.vec[guess])\n",
    "            sim = np.dot(vec_guess,self.vec_w)\n",
    "            temp = the_temp(sim) if self.prev  != self.SEN else self.init_temp(sim)\n",
    "            if sim > self.prev:self.prev = sim\n",
    "            print(f\"{guess} is {temp}, cosine similarity is: {sim} \")\n",
    "        except:\n",
    "            print(\"Word not recognized, please try again\")\n",
    "        return False\n"
   ]
  },
  {
   "cell_type": "code",
   "execution_count": 133,
   "metadata": {},
   "outputs": [
    {
     "name": "stdout",
     "output_type": "stream",
     "text": [
      "winegar\n",
      "step:0\n"
     ]
    },
    {
     "name": "stdin",
     "output_type": "stream",
     "text": [
      "Enter your guess:  vinegar\n"
     ]
    },
    {
     "name": "stdout",
     "output_type": "stream",
     "text": [
      "vinegar is unrelated, cosine similarity is: -0.1748829185962677 \n",
      "step:1\n"
     ]
    },
    {
     "name": "stdin",
     "output_type": "stream",
     "text": [
      "Enter your guess:  wine\n"
     ]
    },
    {
     "name": "stdout",
     "output_type": "stream",
     "text": [
      "wine is colder, cosine similarity is: -0.2849844694137573 \n",
      "step:2\n"
     ]
    },
    {
     "name": "stdin",
     "output_type": "stream",
     "text": [
      "Enter your guess:  wtf\n"
     ]
    },
    {
     "name": "stdout",
     "output_type": "stream",
     "text": [
      "wtf is warmer, cosine similarity is: 0.02264230325818062 \n",
      "step:3\n"
     ]
    },
    {
     "name": "stdin",
     "output_type": "stream",
     "text": [
      "Enter your guess:  err\n"
     ]
    },
    {
     "name": "stdout",
     "output_type": "stream",
     "text": [
      "err is warmer, cosine similarity is: 0.19794468581676483 \n",
      "step:4\n"
     ]
    },
    {
     "name": "stdin",
     "output_type": "stream",
     "text": [
      "Enter your guess:  error\n"
     ]
    },
    {
     "name": "stdout",
     "output_type": "stream",
     "text": [
      "error is colder, cosine similarity is: -0.03648602217435837 \n",
      "step:5\n"
     ]
    },
    {
     "name": "stdin",
     "output_type": "stream",
     "text": [
      "Enter your guess:  British\n"
     ]
    },
    {
     "name": "stdout",
     "output_type": "stream",
     "text": [
      "british is colder, cosine similarity is: -0.21212534606456757 \n",
      "step:6\n"
     ]
    },
    {
     "name": "stdin",
     "output_type": "stream",
     "text": [
      "Enter your guess:  ya mate kudyastop\n"
     ]
    },
    {
     "name": "stdout",
     "output_type": "stream",
     "text": [
      "thank you\n"
     ]
    }
   ],
   "source": [
    "guess= \"\"\n",
    "game = semantle(downloaded=True)\n",
    "correct = False\n",
    "step = 0\n",
    "while not correct :\n",
    "    print(f\"step:{step}\")\n",
    "    guess = input(\"Enter your guess: \").lower().strip()\n",
    "    if guess == \"ya mate kudyastop\":#that pun hurts my soul\n",
    "        break\n",
    "    correct = game.check(guess)\n",
    "    step+=1\n",
    "print(\"thank you\")"
   ]
  },
  {
   "cell_type": "code",
   "execution_count": null,
   "metadata": {},
   "outputs": [],
   "source": []
  }
 ],
 "metadata": {
  "colab": {
   "provenance": []
  },
  "kernelspec": {
   "display_name": "Python 3 (ipykernel)",
   "language": "python",
   "name": "python3"
  },
  "language_info": {
   "codemirror_mode": {
    "name": "ipython",
    "version": 3
   },
   "file_extension": ".py",
   "mimetype": "text/x-python",
   "name": "python",
   "nbconvert_exporter": "python",
   "pygments_lexer": "ipython3",
   "version": "3.9.4"
  },
  "vscode": {
   "interpreter": {
    "hash": "8f4b3deeac0a5ce6c43bde11bfee6a0d7b0549337061a7646d07811ade3818cd"
   }
  }
 },
 "nbformat": 4,
 "nbformat_minor": 4
}
