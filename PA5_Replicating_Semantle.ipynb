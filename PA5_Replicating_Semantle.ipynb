{
 "cells": [
  {
   "cell_type": "markdown",
   "metadata": {
    "id": "3i3m9JjeM5U5"
   },
   "source": [
    "# **Programming Assessment \\#5**\n",
    "\n",
    "Names: ABERIN, Shawn  LIM, Kyle  SINGSON, Raymond\n",
    "\n",
    "More information on the assessment is found in our Canvas course."
   ]
  },
  {
   "cell_type": "markdown",
   "metadata": {
    "id": "HxtmCAZwNoeU"
   },
   "source": [
    "# **Load Pre-trained Embeddings**\n",
    "\n",
    "*While you don't have to separate your code into blocks, it might be easier if you separated loading / downloading your data from the main part of your solution. Consider placing all loading of data into the code block below.*"
   ]
  },
  {
   "cell_type": "code",
   "execution_count": 1,
   "metadata": {
    "colab": {
     "base_uri": "https://localhost:8080/"
    },
    "id": "uF2I_QjKGEfa",
    "outputId": "a2a10672-10a7-4337-b448-05c9a62a8515"
   },
   "outputs": [
    {
     "name": "stdout",
     "output_type": "stream",
     "text": [
      "Requirement already satisfied: fasttext in c:\\python39\\lib\\site-packages (0.9.2)\n",
      "Requirement already satisfied: pybind11>=2.2 in c:\\python39\\lib\\site-packages (from fasttext) (2.11.1)\n",
      "Requirement already satisfied: setuptools>=0.7.0 in c:\\users\\shawn\\appdata\\roaming\\python\\python39\\site-packages (from fasttext) (62.6.0)\n",
      "Requirement already satisfied: numpy in c:\\python39\\lib\\site-packages (from fasttext) (1.24.1)\n"
     ]
    },
    {
     "name": "stderr",
     "output_type": "stream",
     "text": [
      "WARNING: Ignoring invalid distribution -ip (c:\\python39\\lib\\site-packages)\n",
      "WARNING: Ignoring invalid distribution -ip (c:\\python39\\lib\\site-packages)\n"
     ]
    }
   ],
   "source": [
    "! pip install fasttext"
   ]
  },
  {
   "cell_type": "code",
   "execution_count": 2,
   "metadata": {
    "id": "CbvxU2oTM4IV"
   },
   "outputs": [],
   "source": [
    "import numpy as np\n",
    "import fasttext.util\n",
    "import fasttext\n",
    "import urllib.request\n",
    "import zipfile\n",
    "import os\n",
    "\n",
    "class Loaders:\n",
    "    def __init__(self):\n",
    "        self.loaders = {\n",
    "            \"glove6b\": self.load_word_vectors_glove6b,\n",
    "            \"fasttext\": self.load_word_vectors_fasttext\n",
    "        }\n",
    "        self.srcs = {\n",
    "            \"glove6b\": \"https://nlp.stanford.edu/data/glove.6B.zip\",\n",
    "            \"fasttext\": None\n",
    "        }\n",
    "       \n",
    "        \n",
    "\n",
    "    def load_word_vectors_glove6b(self, glove_file=\"glove.6B.50d.txt\"):\n",
    "        data = {}\n",
    "   \n",
    "        with open(glove_file, \"r\", encoding=\"utf8\") as f:\n",
    "            lines = (line.casefold().split() for line in f.readlines())\n",
    "        dat = ((line[0], np.array(line[1:], dtype=np.float32)) for line in lines if line[0].isalnum())\n",
    "        data.update(dat)\n",
    "        wordslist = list(data.keys())\n",
    "        vectors = data\n",
    "        return wordslist, vectors\n",
    "\n",
    "    def load_word_vectors_fasttext(self, fasttext_file=\"cc.en.300.bin\"):\n",
    "\n",
    "        ft = fasttext.load_model(fasttext_file)\n",
    "        wordslist = ft.get_words()\n",
    "        vectors = {word: ft.get_word_vector(word) for word in wordslist}\n",
    "        return wordslist, vectors\n",
    "\n",
    "\n",
    "    def load(self, type=\"glove6b\", fileloc=\"glove.6B.50d\"):\n",
    "        return self.loaders[type](fileloc)\n",
    "        # try:\n",
    "        #     return self.loaders[type](fileloc)\n",
    "        # except Exception as e:\n",
    "        #     print(f\"Error loading {type} model: {e}\")\n",
    "        #     return None, None\n",
    "    def download(self,type):\n",
    "        if  type == \"glove6b\":\n",
    "            self.download_glove()\n",
    "        elif type == \"fasttext\":\n",
    "           \n",
    "            fasttext.util.download_model('en', if_exists='ignore')  # English\n",
    "        else: print(f\"No type {type}\")\n",
    "    def download_glove(self):\n",
    "\n",
    "        try:\n",
    "            url = self.srcs[\"glove6b\"]\n",
    "            zip_file_name = \"glove6b.zip\"\n",
    "            urllib.request.urlretrieve(url, zip_file_name)\n",
    "            print(\"downloading glove vecs\")\n",
    "            with zipfile.ZipFile(zip_file_name, 'r') as zip_ref:\n",
    "                print(\"unzipping\")\n",
    "                zip_ref.extractall(\"./content\")\n",
    "            os.remove(zip_file_name)\n",
    "            print(\"glove6b downloaded and extracted successfully.\")\n",
    "        except:\n",
    "            print(\"Error downloading glove6b \")\n",
    "        \n"
   ]
  },
  {
   "cell_type": "markdown",
   "metadata": {
    "id": "r8YCZLi-N0uR"
   },
   "source": [
    "# **Your Implementation**\n",
    "\n",
    "*Again, you don't have to have everything in one block. Use the notebook according to your preferences with the goal of fulfilling the assessment in mind.*"
   ]
  },
  {
   "cell_type": "code",
   "execution_count": 3,
   "metadata": {
    "colab": {
     "base_uri": "https://localhost:8080/"
    },
    "id": "VqKjpUrkOSnC",
    "outputId": "0917533b-6ed6-4cf1-c84c-4cbe8644ee23"
   },
   "outputs": [],
   "source": [
    "import numpy as np\n",
    "import random\n",
    "\n",
    "class Semantle:\n",
    "    def __init__(self, downloaded, vector_type=\"glove6b\", fileloc=\"glove.6B.50d.txt\",dbg=False):\n",
    "        self.SEN = -2\n",
    "        self.prev = self.SEN\n",
    "        self.loader = Loaders()\n",
    "        self.dbg = dbg\n",
    "        if not downloaded:\n",
    "            self.loader.download(vector_type)\n",
    "        self.word_bank, self.vec = self.loader.load(vector_type, fileloc)\n",
    "        if self.word_bank is None:\n",
    "            print(\"Error reading vector file. Exiting.\")\n",
    "            return\n",
    "        self.maketarget()\n",
    "        \n",
    "    def normalize(self, vec):\n",
    "        den = np.linalg.norm(vec)\n",
    "        return vec / den if den != 0 else vec\n",
    "\n",
    "    def maketarget(self):\n",
    "        self.w = choose_word(self.word_bank)\n",
    "        vec = self.vec[self.w]\n",
    "        self.vec_w = self.normalize(vec)\n",
    "        if self.dbg:\n",
    "            print(f\"Randomly selected word: {self.w}\")\n",
    "\n",
    "    def init_temp(self, s):\n",
    "        if 0.33 <= s <= 1:\n",
    "            return \"synonym\"\n",
    "        elif -1 <= s <= -0.33:\n",
    "            return \"antonym\"\n",
    "        return \"unrelated\"\n",
    "\n",
    "    def check(self, guess):\n",
    "        if guess == self.w:\n",
    "            print(f\"{self.w} is correct\")\n",
    "            return True\n",
    "\n",
    "        \n",
    "        try:\n",
    "            vec_guess = self.normalize(self.vec[guess])\n",
    "            sim = np.dot(vec_guess, self.vec_w)\n",
    "            if sim > self.prev:\n",
    "                self.prev = sim\n",
    "            \n",
    "            the_temp = lambda s: \"colder\" if s < self.prev else \"warmer\"\n",
    "            \n",
    "            temp = the_temp(sim) if self.prev == self.SEN else self.init_temp(sim)\n",
    "            \n",
    "            print(f\"{guess} is {temp}, cosine similarity is: {sim}\")\n",
    "        except KeyError:\n",
    "            print(\"Word not recognized, please try again\")\n",
    "\n",
    "        return False\n",
    "\n",
    "def choose_word(word_bank):\n",
    "    return random.choice(word_bank)\n"
   ]
  },
  {
   "cell_type": "code",
   "execution_count": 4,
   "metadata": {
    "colab": {
     "base_uri": "https://localhost:8080/"
    },
    "id": "QL708Fl9GA9J",
    "outputId": "a56c1e74-968d-4ea5-d687-f46fd16c40b3",
    "scrolled": true
   },
   "outputs": [
    {
     "name": "stdin",
     "output_type": "stream",
     "text": [
      "Enter vector type (glove6b or fasttext):  fastText\n"
     ]
    },
    {
     "name": "stderr",
     "output_type": "stream",
     "text": [
      "Warning : `load_model` does not return WordVectorModel or SupervisedModel any more, but a `FastText` object which is very similar.\n"
     ]
    },
    {
     "ename": "KeyboardInterrupt",
     "evalue": "",
     "output_type": "error",
     "traceback": [
      "\u001b[1;31m---------------------------------------------------------------------------\u001b[0m",
      "\u001b[1;31mKeyboardInterrupt\u001b[0m                         Traceback (most recent call last)",
      "Input \u001b[1;32mIn [4]\u001b[0m, in \u001b[0;36m<cell line: 38>\u001b[1;34m()\u001b[0m\n\u001b[0;32m     36\u001b[0m     \u001b[38;5;28mprint\u001b[39m(\u001b[38;5;124m\"\u001b[39m\u001b[38;5;124mThank you\u001b[39m\u001b[38;5;124m\"\u001b[39m)\n\u001b[0;32m     38\u001b[0m \u001b[38;5;28;01mif\u001b[39;00m \u001b[38;5;18m__name__\u001b[39m \u001b[38;5;241m==\u001b[39m \u001b[38;5;124m\"\u001b[39m\u001b[38;5;124m__main__\u001b[39m\u001b[38;5;124m\"\u001b[39m:\n\u001b[1;32m---> 39\u001b[0m     \u001b[43mmain\u001b[49m\u001b[43m(\u001b[49m\u001b[43m)\u001b[49m\n",
      "Input \u001b[1;32mIn [4]\u001b[0m, in \u001b[0;36mmain\u001b[1;34m()\u001b[0m\n\u001b[0;32m     15\u001b[0m     \u001b[38;5;28;01melse\u001b[39;00m:\n\u001b[0;32m     16\u001b[0m         downloaded \u001b[38;5;241m=\u001b[39m \u001b[38;5;28;01mFalse\u001b[39;00m\n\u001b[1;32m---> 18\u001b[0m game \u001b[38;5;241m=\u001b[39m \u001b[43mSemantle\u001b[49m\u001b[43m(\u001b[49m\u001b[43mdownloaded\u001b[49m\u001b[43m,\u001b[49m\u001b[43m \u001b[49m\u001b[43mvector_type\u001b[49m\u001b[43m,\u001b[49m\u001b[43mfileloc\u001b[49m\u001b[43m)\u001b[49m\n\u001b[0;32m     20\u001b[0m \u001b[38;5;28;01mif\u001b[39;00m game\u001b[38;5;241m.\u001b[39mword_bank \u001b[38;5;129;01mis\u001b[39;00m \u001b[38;5;28;01mNone\u001b[39;00m:\n\u001b[0;32m     21\u001b[0m     \u001b[38;5;28;01mreturn\u001b[39;00m  \u001b[38;5;66;03m# Exit if word vectors are not loaded successfully\u001b[39;00m\n",
      "Input \u001b[1;32mIn [3]\u001b[0m, in \u001b[0;36mSemantle.__init__\u001b[1;34m(self, downloaded, vector_type, fileloc, dbg)\u001b[0m\n\u001b[0;32m     10\u001b[0m \u001b[38;5;28;01mif\u001b[39;00m \u001b[38;5;129;01mnot\u001b[39;00m downloaded:\n\u001b[0;32m     11\u001b[0m     \u001b[38;5;28mself\u001b[39m\u001b[38;5;241m.\u001b[39mloader\u001b[38;5;241m.\u001b[39mdownload(vector_type)\n\u001b[1;32m---> 12\u001b[0m \u001b[38;5;28mself\u001b[39m\u001b[38;5;241m.\u001b[39mword_bank, \u001b[38;5;28mself\u001b[39m\u001b[38;5;241m.\u001b[39mvec \u001b[38;5;241m=\u001b[39m \u001b[38;5;28;43mself\u001b[39;49m\u001b[38;5;241;43m.\u001b[39;49m\u001b[43mloader\u001b[49m\u001b[38;5;241;43m.\u001b[39;49m\u001b[43mload\u001b[49m\u001b[43m(\u001b[49m\u001b[43mvector_type\u001b[49m\u001b[43m,\u001b[49m\u001b[43m \u001b[49m\u001b[43mfileloc\u001b[49m\u001b[43m)\u001b[49m\n\u001b[0;32m     13\u001b[0m \u001b[38;5;28;01mif\u001b[39;00m \u001b[38;5;28mself\u001b[39m\u001b[38;5;241m.\u001b[39mword_bank \u001b[38;5;129;01mis\u001b[39;00m \u001b[38;5;28;01mNone\u001b[39;00m:\n\u001b[0;32m     14\u001b[0m     \u001b[38;5;28mprint\u001b[39m(\u001b[38;5;124m\"\u001b[39m\u001b[38;5;124mError reading vector file. Exiting.\u001b[39m\u001b[38;5;124m\"\u001b[39m)\n",
      "Input \u001b[1;32mIn [2]\u001b[0m, in \u001b[0;36mLoaders.load\u001b[1;34m(self, type, fileloc)\u001b[0m\n\u001b[0;32m     38\u001b[0m \u001b[38;5;28;01mdef\u001b[39;00m \u001b[38;5;21mload\u001b[39m(\u001b[38;5;28mself\u001b[39m, \u001b[38;5;28mtype\u001b[39m\u001b[38;5;241m=\u001b[39m\u001b[38;5;124m\"\u001b[39m\u001b[38;5;124mglove6b\u001b[39m\u001b[38;5;124m\"\u001b[39m, fileloc\u001b[38;5;241m=\u001b[39m\u001b[38;5;124m\"\u001b[39m\u001b[38;5;124mglove.6B.50d\u001b[39m\u001b[38;5;124m\"\u001b[39m):\n\u001b[1;32m---> 39\u001b[0m     \u001b[38;5;28;01mreturn\u001b[39;00m \u001b[38;5;28;43mself\u001b[39;49m\u001b[38;5;241;43m.\u001b[39;49m\u001b[43mloaders\u001b[49m\u001b[43m[\u001b[49m\u001b[38;5;28;43mtype\u001b[39;49m\u001b[43m]\u001b[49m\u001b[43m(\u001b[49m\u001b[43mfileloc\u001b[49m\u001b[43m)\u001b[49m\n",
      "Input \u001b[1;32mIn [2]\u001b[0m, in \u001b[0;36mLoaders.load_word_vectors_fasttext\u001b[1;34m(self, fasttext_file)\u001b[0m\n\u001b[0;32m     30\u001b[0m \u001b[38;5;28;01mdef\u001b[39;00m \u001b[38;5;21mload_word_vectors_fasttext\u001b[39m(\u001b[38;5;28mself\u001b[39m, fasttext_file\u001b[38;5;241m=\u001b[39m\u001b[38;5;124m\"\u001b[39m\u001b[38;5;124mcc.en.300.bin\u001b[39m\u001b[38;5;124m\"\u001b[39m):\n\u001b[0;32m     32\u001b[0m     ft \u001b[38;5;241m=\u001b[39m fasttext\u001b[38;5;241m.\u001b[39mload_model(fasttext_file)\n\u001b[1;32m---> 33\u001b[0m     wordslist \u001b[38;5;241m=\u001b[39m \u001b[43mft\u001b[49m\u001b[38;5;241;43m.\u001b[39;49m\u001b[43mget_words\u001b[49m\u001b[43m(\u001b[49m\u001b[43m)\u001b[49m\n\u001b[0;32m     34\u001b[0m     vectors \u001b[38;5;241m=\u001b[39m {word: ft\u001b[38;5;241m.\u001b[39mget_word_vector(word) \u001b[38;5;28;01mfor\u001b[39;00m word \u001b[38;5;129;01min\u001b[39;00m wordslist}\n\u001b[0;32m     35\u001b[0m     \u001b[38;5;28;01mreturn\u001b[39;00m wordslist, vectors\n",
      "File \u001b[1;32mc:\\python39\\lib\\site-packages\\fasttext\\FastText.py:263\u001b[0m, in \u001b[0;36m_FastText.get_words\u001b[1;34m(self, include_freq, on_unicode_error)\u001b[0m\n\u001b[0;32m    261\u001b[0m     \u001b[38;5;28;01mreturn\u001b[39;00m (pair[\u001b[38;5;241m0\u001b[39m], np\u001b[38;5;241m.\u001b[39marray(pair[\u001b[38;5;241m1\u001b[39m]))\n\u001b[0;32m    262\u001b[0m \u001b[38;5;28;01melse\u001b[39;00m:\n\u001b[1;32m--> 263\u001b[0m     \u001b[38;5;28;01mreturn\u001b[39;00m \u001b[43mpair\u001b[49m\u001b[43m[\u001b[49m\u001b[38;5;241;43m0\u001b[39;49m\u001b[43m]\u001b[49m\n",
      "\u001b[1;31mKeyboardInterrupt\u001b[0m: "
     ]
    }
   ],
   "source": [
    "\n",
    "\n",
    "def main():\n",
    "    vector_type = input(\"Enter vector type (glove6b or fasttext): \").lower().strip()\n",
    "    fileloc = \"./content/glove.6B.50d.txt\"\n",
    "    if vector_type == \"glove6b\":\n",
    "        if os.path.exists(fileloc):\n",
    "            downloaded = True\n",
    "        else:\n",
    "            downloaded = False\n",
    "    elif vector_type == \"fasttext\":\n",
    "         if not os.path.exists(\"./fastText\"):\n",
    "             ! git clone https://github.com/facebookresearch/fastText.git\n",
    "        ! cd fastText\n",
    "        ! runas python setup.py install\n",
    "        fileloc = \"cc.en.300.bin\"\n",
    "        if os.path.exists(fileloc):\n",
    "            downloaded = True\n",
    "        else:\n",
    "            downloaded = False\n",
    "\n",
    "    game = Semantle(downloaded, vector_type,fileloc)\n",
    "\n",
    "    if game.word_bank is None:\n",
    "        return  # Exit if word vectors are not loaded successfully\n",
    "\n",
    "    correct = False\n",
    "    step = 0\n",
    "\n",
    "    while not correct:\n",
    "        print(f\"Step: {step}\")\n",
    "        guess = input(\"Enter your guess: \").lower().strip()\n",
    "\n",
    "        if guess == \"ya mate kudyastop\":\n",
    "            break\n",
    "\n",
    "        correct = game.check(guess)\n",
    "        step += 1\n",
    "\n",
    "    print(\"Thank you\")\n",
    "\n",
    "if __name__ == \"__main__\":\n",
    "    main()\n"
   ]
  }
 ],
 "metadata": {
  "colab": {
   "provenance": []
  },
  "kernelspec": {
   "display_name": "Python 3 (ipykernel)",
   "language": "python",
   "name": "python3"
  },
  "language_info": {
   "codemirror_mode": {
    "name": "ipython",
    "version": 3
   },
   "file_extension": ".py",
   "mimetype": "text/x-python",
   "name": "python",
   "nbconvert_exporter": "python",
   "pygments_lexer": "ipython3",
   "version": "3.9.4"
  },
  "vscode": {
   "interpreter": {
    "hash": "8f4b3deeac0a5ce6c43bde11bfee6a0d7b0549337061a7646d07811ade3818cd"
   }
  }
 },
 "nbformat": 4,
 "nbformat_minor": 4
}
