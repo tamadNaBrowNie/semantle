{
 "cells": [
  {
   "attachments": {},
   "cell_type": "markdown",
   "metadata": {
    "id": "3i3m9JjeM5U5"
   },
   "source": [
    "# **Programming Assessment \\#5**\n",
    "\n",
    "Names: ABERIN, Shawn  LIM, Kyle  SINGSON, Raymond\n",
    "\n",
    "More information on the assessment is found in our Canvas course."
   ]
  },
  {
   "cell_type": "markdown",
   "metadata": {
    "id": "HxtmCAZwNoeU"
   },
   "source": [
    "# **Load Pre-trained Embeddings**\n",
    "\n",
    "*While you don't have to separate your code into blocks, it might be easier if you separated loading / downloading your data from the main part of your solution. Consider placing all loading of data into the code block below.*"
   ]
  },
  {
   "cell_type": "code",
   "execution_count": 2,
   "metadata": {
    "id": "CbvxU2oTM4IV"
   },
   "outputs": [],
   "source": [
    "import numpy as np\n",
    "import random\n",
    "class Vectors:\n",
    "\n",
    "    def __init__(downloaded,fileloc,type):\n",
    "        self.loaders = {\n",
    "        \"glove6B\":self.load_word_vectors_glove6B\n",
    "            # TODO add fasttext loading\n",
    "    }\n",
    "        self.srcs = {\n",
    "             \"glove6B\":\"glove6B url here\"\n",
    "        }\n",
    "        if not downloaded:\n",
    "            # if not downloaded, depending on type, download the zip then unzip.\n",
    "                pass\n",
    "        try:\n",
    "            self.wordbank,self.vectors = self.loaders[type](fileloc)\n",
    "        except:\n",
    "            print(\"Vector file load error\")\n",
    "                # TODO out this in a dict with less nesting\n",
    "    def load_word_vectors_glove6B(self,glove_file):\n",
    "        data = {}\n",
    "        lines = None\n",
    "        with open(glove_file, \"r\", encoding=\"utf8\") as f:\n",
    "            lines = (line.casefold().split() for line in f)\n",
    "        # for line in lines:\n",
    "        #     if line[0].isalnum():\n",
    "        #         wordslist.append(line[0])\n",
    "        #         np_line = np.array(line[1:], dtype=np.float32)\n",
    "        #         vectors.append(np_line)\n",
    "        #         data.update((line[0],line[1:]))\n",
    "        try:\n",
    "            vectors = [(line[0],np.array(line[1:], dtype=np.float32))  for line in lines if line[0].isalnum()]\n",
    "            data.update(vectors)\n",
    "            wordslist = data.keys()\n",
    "            vectors = data.values()\n",
    "             \n",
    "            return wordslist, vectors\n",
    "        except:\n",
    "            return None, None\n",
    "\n"
   ]
  },
  {
   "cell_type": "markdown",
   "metadata": {
    "id": "r8YCZLi-N0uR"
   },
   "source": [
    "# **Your Implementation**\n",
    "\n",
    "*Again, you don't have to have everything in one block. Use the notebook according to your preferences with the goal of fulfilling the assessment in mind.*"
   ]
  },
  {
   "cell_type": "code",
   "execution_count": null,
   "metadata": {
    "id": "VqKjpUrkOSnC"
   },
   "outputs": [],
   "source": [
    "# def get_similarity(guess, target):\n",
    "#     #load vector data\n",
    "#     v1, v2 = vectors[guess], vectors[target]\n",
    "#     output = np.dot(v1, v2)\n",
    "#     return abs(round(output.item() * 100, 2))\n",
    "\n",
    "# def choose_word():\n",
    "#     #word_bank = listofwords\n",
    "#     return random.choice(word_bank)\n",
    "\n",
    "# def play_game():# semantle\n",
    "# from semantle.data import load_word_vectors\n",
    "    #i really fucking want to get out of college\n",
    "    #     #i fucking wanna play genshin\n",
    "    #     #there is someone cosplaying katheryne in DLSU Lag lib\n",
    "    #     #there was a cosplay event there and i am here suffering this\n",
    "    #     #wait i have to do code analysis first\n",
    "# why did i edit my comments from last week?\n",
    "\n",
    "import random\n",
    "import numpy as np\n",
    "import zipfile as zif\n",
    "from numpy.linalg import norm\n",
    "def choose_word():\n",
    "    word_bank, _ = load_word_vectors_glove6B()\n",
    "    return random.choice(word_bank)\n",
    "class semantle:\n",
    "    \n",
    "    # vec_class is the type of pre-trained vector to be used. \n",
    "    def __init__(self,downloaded = False,type = None, vec = None):\n",
    "        self.SEN=-2\n",
    "        self.prev = self.SEN\n",
    "        self.first_temps = {\n",
    "            1:\"synonyms\",\n",
    "            0:\"unrelated\",\n",
    "            -1:\"antonyms\"\n",
    "        }\n",
    "        if vec is None:\n",
    "            vec = Vectors(ownloaded,type)\n",
    "        self.word_bank = vec.wordbank\n",
    "        self.vec = self.vectors #set this to our words= vectors\n",
    "        self.maketarget()\n",
    "    def maketarget(self):\n",
    "        self.w = random.choice(self.word_bank)\n",
    "        self.vec_w = norm(self.vec[self.w])\n",
    "\n",
    "    def check(self,guess):\n",
    "        \n",
    "        if guess == self.w:\n",
    "                print(f\"{self.w} is correct\")\n",
    "                return True\n",
    "        try:\n",
    "            the_temp = lambda s: \"colder\" if s < self.prev else \"warmer\"\n",
    "            vec_guess = self.vec[guess] #in case we need a generic method to access, create one\n",
    "            sim = np.dot(norm(vec_guess),self.vec_w)\n",
    "            temp = the_temp(sim) if self.prev  != self.SEN else self.first_temps[round(sim)]\n",
    "            self.prev = sim\n",
    "            print(f\"{guess} is {temp}, cosine similarity is: {sim} \")\n",
    "        except:\n",
    "            print(\"Word not recognized, please try again\")\n",
    "        return False\n",
    "guess= \"\"\n",
    "game = semantle()\n",
    "correct = False\n",
    "step = 0\n",
    "while not correct :\n",
    "    print(f\"step:{step}\")\n",
    "    guess = input(\"Enter your guess: \").lower().strip()\n",
    "    correct = game.check(guess)\n",
    "print(\"thank you\")\n"
   ]
  }
 ],
 "metadata": {
  "colab": {
   "provenance": []
  },
  "kernelspec": {
   "display_name": "Python 3 (ipykernel)",
   "language": "python",
   "name": "python3"
  },
  "language_info": {
   "codemirror_mode": {
    "name": "ipython",
    "version": 3
   },
   "file_extension": ".py",
   "mimetype": "text/x-python",
   "name": "python",
   "nbconvert_exporter": "python",
   "pygments_lexer": "ipython3",
   "version": "3.9.4"
  },
  "vscode": {
   "interpreter": {
    "hash": "8f4b3deeac0a5ce6c43bde11bfee6a0d7b0549337061a7646d07811ade3818cd"
   }
  }
 },
 "nbformat": 4,
 "nbformat_minor": 4
}
